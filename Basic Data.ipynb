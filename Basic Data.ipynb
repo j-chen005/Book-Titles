{
 "cells": [
  {
   "cell_type": "code",
   "execution_count": 1,
   "id": "807173e4-b527-47ec-9496-8fc170da9c66",
   "metadata": {
    "tags": []
   },
   "outputs": [
    {
     "ename": "ModuleNotFoundError",
     "evalue": "No module named 'pandas'",
     "output_type": "error",
     "traceback": [
      "\u001b[0;31m---------------------------------------------------------------------------\u001b[0m",
      "\u001b[0;31mModuleNotFoundError\u001b[0m                       Traceback (most recent call last)",
      "Cell \u001b[0;32mIn[1], line 1\u001b[0m\n\u001b[0;32m----> 1\u001b[0m \u001b[38;5;28;01mimport\u001b[39;00m \u001b[38;5;21;01mpandas\u001b[39;00m \u001b[38;5;28;01mas\u001b[39;00m \u001b[38;5;21;01mpd\u001b[39;00m\n",
      "\u001b[0;31mModuleNotFoundError\u001b[0m: No module named 'pandas'"
     ]
    }
   ],
   "source": [
    "import pandas as pd\n",
    "from nltk.corpus import stopwords"
   ]
  },
  {
   "cell_type": "code",
   "execution_count": null,
   "id": "8c47efc0-a205-49c7-8564-475d8048f7c5",
   "metadata": {},
   "outputs": [],
   "source": [
    "df = pd.read_csv()"
   ]
  },
  {
   "cell_type": "code",
   "execution_count": 3,
   "id": "456833c6-15c5-486d-9b3b-2476d120bb46",
   "metadata": {},
   "outputs": [],
   "source": [
    "def len_title(df):\n",
    "    len_list = []\n",
    "    for title in df['Transcript']:\n",
    "        wordList = title.split()\n",
    "        len_list.append(len(wordList))\n",
    "    df['Length'] = len_list"
   ]
  },
  {
   "cell_type": "code",
   "execution_count": 8,
   "id": "f6b87ef7-9335-45a9-8dde-100e4f3521ed",
   "metadata": {
    "tags": []
   },
   "outputs": [
    {
     "data": {
      "text/plain": [
       "2"
      ]
     },
     "execution_count": 8,
     "metadata": {},
     "output_type": "execute_result"
    }
   ],
   "source": [
    "len_title(\"hello,  there\")"
   ]
  },
  {
   "cell_type": "code",
   "execution_count": 17,
   "id": "4e184b48-73e2-42e4-a5c2-6160a39eaa50",
   "metadata": {
    "tags": []
   },
   "outputs": [],
   "source": [
    "import re #regex library used for substituting words"
   ]
  },
  {
   "cell_type": "code",
   "execution_count": 18,
   "id": "a38d692b-2d6d-4b19-b3db-8030e7a88ed6",
   "metadata": {
    "tags": []
   },
   "outputs": [
    {
     "ename": "NameError",
     "evalue": "name 'stopwords' is not defined",
     "output_type": "error",
     "traceback": [
      "\u001b[0;31m---------------------------------------------------------------------------\u001b[0m",
      "\u001b[0;31mNameError\u001b[0m                                 Traceback (most recent call last)",
      "Cell \u001b[0;32mIn[18], line 2\u001b[0m\n\u001b[1;32m      1\u001b[0m \u001b[38;5;66;03m#removing stopwords and urls, lemmatization, making lowercase \u001b[39;00m\n\u001b[0;32m----> 2\u001b[0m stop_words \u001b[38;5;241m=\u001b[39m \u001b[43mstopwords\u001b[49m\u001b[38;5;241m.\u001b[39mwords(\u001b[38;5;124m'\u001b[39m\u001b[38;5;124menglish\u001b[39m\u001b[38;5;124m'\u001b[39m)\n\u001b[1;32m      3\u001b[0m lemmatizer \u001b[38;5;241m=\u001b[39m WordNetLemmatizer()\n\u001b[1;32m      5\u001b[0m text_cleaning_re \u001b[38;5;241m=\u001b[39m \u001b[38;5;124m\"\u001b[39m\u001b[38;5;124m@|https?:\u001b[39m\u001b[38;5;124m\\\u001b[39m\u001b[38;5;124mS+|http?:\u001b[39m\u001b[38;5;124m\\\u001b[39m\u001b[38;5;124mS|[^A-Za-z0-9]+\u001b[39m\u001b[38;5;124m\"\u001b[39m\n",
      "\u001b[0;31mNameError\u001b[0m: name 'stopwords' is not defined"
     ]
    }
   ],
   "source": [
    "#removing stopwords and urls, lemmatization, making lowercase \n",
    "# stop_words = stopwords.words('english')\n",
    "# lemmatizer = WordNetLemmatizer()\n",
    "\n",
    "# def cleaning(text, stem=False):\n",
    "#     text = str(text).lower().strip()\n",
    "#     tokens = []\n",
    "#     for token in text.split():\n",
    "#         #Substituting multiple spaces with single space\n",
    "#         token = re.sub(r'\\s+', ' ', token, flags=re.I)\n",
    "#         if token not in stop_words:\n",
    "#             if stem:\n",
    "#                 tokens.append(lemmatizer.lemmatize(token))\n",
    "#             else:\n",
    "#                 tokens.append(token)\n",
    "#     return tokens"
   ]
  },
  {
   "cell_type": "code",
   "execution_count": null,
   "id": "96a85044-b3a3-455e-989d-98b56acba98a",
   "metadata": {},
   "outputs": [],
   "source": [
    "def freq_words(df):\n",
    "    word_dict = {}\n",
    "    for title in df['Transcript']:\n",
    "        wordList = title.split()\n",
    "        for word in wordList:\n",
    "            if word in word_dict.keys():\n",
    "                word_dict[word] += 1\n",
    "            else:\n",
    "                word_dict[word] = 1\n",
    "    #find five words with the most frequency"
   ]
  },
  {
   "cell_type": "code",
   "execution_count": null,
   "id": "b6bfad8b-4435-4540-b053-7c20a1f559c5",
   "metadata": {},
   "outputs": [],
   "source": [
    "def freq_punc(df):\n",
    "    punc_dict = {}\n",
    "    for title in df['Transcript']:\n",
    "        "
   ]
  },
  {
   "cell_type": "code",
   "execution_count": null,
   "id": "aa2ddbe7-42f1-48cc-8da1-46baa21060c2",
   "metadata": {},
   "outputs": [],
   "source": []
  }
 ],
 "metadata": {
  "kernelspec": {
   "display_name": "Python 3 (ipykernel)",
   "language": "python",
   "name": "python3"
  },
  "language_info": {
   "codemirror_mode": {
    "name": "ipython",
    "version": 3
   },
   "file_extension": ".py",
   "mimetype": "text/x-python",
   "name": "python",
   "nbconvert_exporter": "python",
   "pygments_lexer": "ipython3",
   "version": "3.11.2"
  }
 },
 "nbformat": 4,
 "nbformat_minor": 5
}
